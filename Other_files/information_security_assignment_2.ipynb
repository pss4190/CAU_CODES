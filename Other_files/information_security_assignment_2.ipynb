{
 "cells": [
  {
   "cell_type": "code",
   "execution_count": 10,
   "id": "qualified-substitute",
   "metadata": {},
   "outputs": [
    {
     "name": "stdout",
     "output_type": "stream",
     "text": [
      "[[3 2]\n",
      " [5 7]]\n",
      "[ 2 14 12 15 20 19  4 17]\n"
     ]
    }
   ],
   "source": [
    "import numpy as np\n",
    "k = np.array(\n",
    "    [[3,2], [5,7]]\n",
    ")\n",
    "#k = [[3,2], [5,7]]\n",
    "alphabet = np.array([2, 14, 12, 15, 20, 19, 4, 17])\n",
    "#alphabet = [2, 14, 12, 15, 20, 19, 4, 17]\n",
    "\n",
    "print(k)\n",
    "print(alphabet)"
   ]
  },
  {
   "cell_type": "code",
   "execution_count": 14,
   "id": "competitive-professional",
   "metadata": {},
   "outputs": [
    {
     "name": "stdout",
     "output_type": "stream",
     "text": [
      "0  :  2\n",
      "1  :  14\n",
      "[20  6]\n",
      "U G\n",
      "2  :  12\n",
      "3  :  15\n",
      "[17  3]\n",
      "R D\n",
      "4  :  20\n",
      "5  :  19\n",
      "[19  1]\n",
      "T B\n",
      "6  :  4\n",
      "7  :  17\n",
      "[7 9]\n",
      "H J\n"
     ]
    }
   ],
   "source": [
    "for iteration, alphabet_val in enumerate(alphabet) :\n",
    "    print(iteration, \" : \", alphabet_val)\n",
    "    if(iteration % 2 == 1) :\n",
    "        dot_product = k.dot(np.array([alphabet[iteration], alphabet[iteration-1]]))\n",
    "        print(dot_product % 26)\n",
    "        print(chr((dot_product[0] % 26) + 65), chr((dot_product[1] % 26) + 65))"
   ]
  },
  {
   "cell_type": "code",
   "execution_count": null,
   "id": "intimate-transfer",
   "metadata": {},
   "outputs": [],
   "source": []
  }
 ],
 "metadata": {
  "kernelspec": {
   "display_name": "Python 3",
   "language": "python",
   "name": "python3"
  },
  "language_info": {
   "codemirror_mode": {
    "name": "ipython",
    "version": 3
   },
   "file_extension": ".py",
   "mimetype": "text/x-python",
   "name": "python",
   "nbconvert_exporter": "python",
   "pygments_lexer": "ipython3",
   "version": "3.7.7"
  }
 },
 "nbformat": 4,
 "nbformat_minor": 5
}
